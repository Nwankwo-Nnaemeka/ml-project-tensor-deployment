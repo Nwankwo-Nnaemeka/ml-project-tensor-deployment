{
 "cells": [
  {
   "cell_type": "code",
   "execution_count": 1,
   "id": "5e548d02-7485-4f6b-bfdd-632b7364998b",
   "metadata": {},
   "outputs": [],
   "source": [
    "import yaml\n",
    "from box import ConfigBox\n",
    "from box.exceptions import BoxValueError\n",
    "from pathlib import Path\n",
    "import os\n",
    "from pydantic import BaseModel\n",
    "import urllib.request as request\n",
    "from utils import *\n",
    "from utils import read_custom_csv\n",
    "import requests\n",
    "import zipfile\n",
    "import re\n",
    "import pandas as pd\n"
   ]
  },
  {
   "cell_type": "code",
   "execution_count": 4,
   "id": "c467e9ad-82f3-4520-94b3-1850c3d8d28b",
   "metadata": {},
   "outputs": [
    {
     "name": "stdout",
     "output_type": "stream",
     "text": [
      "['adult.data', 'adult.names', 'adult.test', 'Index', 'old.adult.names']\n"
     ]
    }
   ],
   "source": [
    "data_root_path = os.path.join('artifacts', 'data')\n",
    "files = os.listdir(data_root_path)\n",
    "print(files)\n",
    "train_data_path = os.path.join(data_root_path, 'adult.data')\n",
    "test_data_path =  os.path.join(data_root_path, 'adult.test')\n",
    "text_file_path =  os.path.join(data_root_path, 'adult.names')\n",
    "\n",
    "with open(text_file_path) as text:\n",
    "    cols = []\n",
    "    for line in text:\n",
    "        sre = re.match(r'(?P<colname>[a-z\\-]+):.*\\.', line)\n",
    "        if sre:\n",
    "            cols.append(sre.group('colname'))\n",
    "    cols.append('label')\n",
    "    "
   ]
  },
  {
   "cell_type": "code",
   "execution_count": 5,
   "id": "2257b80e-655f-465d-be72-b51a18d92d24",
   "metadata": {},
   "outputs": [
    {
     "data": {
      "text/plain": [
       "Index(['age', 'workclass', 'fnlwgt', 'education', 'education-num',\n",
       "       'marital-status', 'occupation', 'relationship', 'race', 'sex',\n",
       "       'capital-gain', 'capital-loss', 'hours-per-week', 'native-country',\n",
       "       'label'],\n",
       "      dtype='object')"
      ]
     },
     "execution_count": 5,
     "metadata": {},
     "output_type": "execute_result"
    }
   ],
   "source": [
    "options = {'header': None, 'names': cols, 'skipinitialspace': True}\n",
    "income_df = pd.read_csv(train_data_path, **options)\n",
    "income_df.columns"
   ]
  },
  {
   "cell_type": "code",
   "execution_count": 10,
   "id": "db4e28c1-cbde-4621-91e9-eae2dddb4ab7",
   "metadata": {},
   "outputs": [],
   "source": [
    "class PathValidator(BaseModel):\n",
    "    root_dir: Path\n",
    "    unzipped_dir: Path\n",
    "    STATUS_FILE: Path\n",
    "    schema_dir: Path\n",
    "\n",
    "def validate_data(configbox):\n",
    "    config = configbox.data_validation\n",
    "    config = PathValidator(**config)\n",
    "    return config"
   ]
  },
  {
   "cell_type": "code",
   "execution_count": 22,
   "id": "20631c31-4951-4320-af1a-78d67d4690e0",
   "metadata": {},
   "outputs": [],
   "source": [
    "class DataValidation:\n",
    "    def __init__(self, config):\n",
    "        self.config = config\n",
    "\n",
    "    def validate_columns(self):\n",
    "        create_directories([self.config.root_dir])\n",
    "        validation_status = None\n",
    "        data = read_custom_csv(self.config.unzipped_dir)\n",
    "        all_columns = list(data.columns)\n",
    "        schema_config = read_yaml_file(Path(self.config.schema_dir))\n",
    "        schema = schema_config.COLUMNS.keys()\n",
    "        for column in all_columns:\n",
    "            if column not in schema:\n",
    "                validation_status = False\n",
    "                with open(self.config.STATUS_FILE, 'w') as file:\n",
    "                    file.write(f\"validation status: {validation_status}\")\n",
    "                \n",
    "            else:\n",
    "                validation_status = True\n",
    "                with open(self.config.STATUS_FILE, 'w') as file:\n",
    "                    file.write(f\"validation status: {validation_status}\")\n",
    "        return validation_status  "
   ]
  },
  {
   "cell_type": "code",
   "execution_count": 25,
   "id": "2e851815-ba52-4cb0-ab81-b534333ec3bb",
   "metadata": {},
   "outputs": [
    {
     "name": "stdout",
     "output_type": "stream",
     "text": [
      "yaml file: artifacts/ConfigFiles/config.yaml loaded successfully\n",
      "created directory at artifacts\\data_validation\n",
      "yaml file: artifacts\\ConfigFiles\\schema.yaml loaded successfully\n"
     ]
    },
    {
     "data": {
      "text/plain": [
       "True"
      ]
     },
     "execution_count": 25,
     "metadata": {},
     "output_type": "execute_result"
    }
   ],
   "source": [
    "config_box = read_yaml_file(\"artifacts/ConfigFiles/config.yaml\")\n",
    "config = validate_data(config_box)\n",
    "data_validation = DataValidation(config)\n",
    "data_validation.validate_columns()\n"
   ]
  },
  {
   "cell_type": "code",
   "execution_count": null,
   "id": "4c600717-cf7c-4be4-bf25-614d25764e6e",
   "metadata": {},
   "outputs": [],
   "source": []
  }
 ],
 "metadata": {
  "kernelspec": {
   "display_name": "Python 3 (ipykernel)",
   "language": "python",
   "name": "python3"
  },
  "language_info": {
   "codemirror_mode": {
    "name": "ipython",
    "version": 3
   },
   "file_extension": ".py",
   "mimetype": "text/x-python",
   "name": "python",
   "nbconvert_exporter": "python",
   "pygments_lexer": "ipython3",
   "version": "3.10.13"
  }
 },
 "nbformat": 4,
 "nbformat_minor": 5
}
