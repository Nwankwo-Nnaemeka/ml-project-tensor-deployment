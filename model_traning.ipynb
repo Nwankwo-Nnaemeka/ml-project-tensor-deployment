{
 "cells": [
  {
   "cell_type": "code",
   "execution_count": 1,
   "id": "01d5bc79-fe12-4e5f-827b-760f88543346",
   "metadata": {},
   "outputs": [],
   "source": [
    "import mlflow\n",
    "import os\n",
    "from utils import *\n",
    "import pandas as pd\n",
    "import numpy as np\n",
    "import matplotlib.pyplot as plt\n",
    "from pathlib import Path\n",
    "from sklearn.linear_model import ElasticNet, LogisticRegression"
   ]
  },
  {
   "cell_type": "code",
   "execution_count": 2,
   "id": "5a959b05-4695-49b6-aeba-897c7b3ce931",
   "metadata": {},
   "outputs": [
    {
     "name": "stdout",
     "output_type": "stream",
     "text": [
      "yaml file: artifacts\\ConfigFiles\\params.yaml loaded successfully\n",
      "yaml file: artifacts\\ConfigFiles\\config.yaml loaded successfully\n"
     ]
    }
   ],
   "source": [
    "param_box = read_yaml_file(Path(\"artifacts/ConfigFiles/params.yaml\"))\n",
    "config_box = read_yaml_file(Path(\"artifacts/ConfigFiles/config.yaml\"))\n",
    "params_elastic_net = param_box.ElasticNet"
   ]
  },
  {
   "cell_type": "code",
   "execution_count": 3,
   "id": "47b25a25-b12c-4a27-bdd8-245661625077",
   "metadata": {},
   "outputs": [],
   "source": [
    "# Read in transformed data\n",
    "config =  config_box.data_transformation\n",
    "\n",
    "# Load as DataFrame \n",
    "income_train = pd.read_csv(config.transformed_train_data)\n",
    "income_test = pd.read_csv(config.transformed_test_data)\n",
    "\n",
    "# Get the features and y label for train set\n",
    "y_train = income_train['label']\n",
    "train_columns = income_train.columns\n",
    "feature_columns = train_columns[:-1]\n",
    "X_train = income_train[feature_columns]\n",
    "\n",
    "# Get the features and y label for test set\n",
    "y_test = income_test['label']\n",
    "X_test = income_test[feature_columns]"
   ]
  },
  {
   "cell_type": "code",
   "execution_count": null,
   "id": "bf06c409-915e-4197-905a-6d543d47914e",
   "metadata": {},
   "outputs": [],
   "source": [
    "elastic_net = ElasticNet(alpha= params_elastic_net.alpha, l1_ratio=params_elastic_net.l1_ratio)\n"
   ]
  }
 ],
 "metadata": {
  "kernelspec": {
   "display_name": "Python 3 (ipykernel)",
   "language": "python",
   "name": "python3"
  },
  "language_info": {
   "codemirror_mode": {
    "name": "ipython",
    "version": 3
   },
   "file_extension": ".py",
   "mimetype": "text/x-python",
   "name": "python",
   "nbconvert_exporter": "python",
   "pygments_lexer": "ipython3",
   "version": "3.10.13"
  }
 },
 "nbformat": 4,
 "nbformat_minor": 5
}
