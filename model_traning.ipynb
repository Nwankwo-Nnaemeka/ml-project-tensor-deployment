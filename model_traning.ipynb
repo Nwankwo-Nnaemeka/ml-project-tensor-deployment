{
 "cells": [
  {
   "cell_type": "code",
   "execution_count": 22,
   "id": "01d5bc79-fe12-4e5f-827b-760f88543346",
   "metadata": {},
   "outputs": [],
   "source": [
    "import mlflow\n",
    "import os\n",
    "from utils import *\n",
    "import pandas as pd\n",
    "import numpy as np\n",
    "import matplotlib.pyplot as plt\n",
    "from pathlib import Path\n",
    "from sklearn.linear_model import ElasticNet, LogisticRegression\n",
    "from sklearn.metrics import f1_score, roc_auc_score, accuracy_score\n",
    "from mlflow.models import infer_signature"
   ]
  },
  {
   "cell_type": "code",
   "execution_count": 15,
   "id": "5a959b05-4695-49b6-aeba-897c7b3ce931",
   "metadata": {},
   "outputs": [
    {
     "name": "stdout",
     "output_type": "stream",
     "text": [
      "yaml file: artifacts\\ConfigFiles\\params.yaml loaded successfully\n",
      "yaml file: artifacts\\ConfigFiles\\config.yaml loaded successfully\n"
     ]
    }
   ],
   "source": [
    "param_box = read_yaml_file(Path(\"artifacts/ConfigFiles/params.yaml\"))\n",
    "config_box = read_yaml_file(Path(\"artifacts/ConfigFiles/config.yaml\"))\n",
    "params_elastic_net = param_box.ElasticNet"
   ]
  },
  {
   "cell_type": "code",
   "execution_count": 16,
   "id": "47b25a25-b12c-4a27-bdd8-245661625077",
   "metadata": {},
   "outputs": [],
   "source": [
    "# Read in transformed data\n",
    "config =  config_box.data_transformation\n",
    "\n",
    "# Load as DataFrame \n",
    "income_train = pd.read_csv(config.transformed_train_data)\n",
    "income_test = pd.read_csv(config.transformed_test_data)\n",
    "\n",
    "# Get the features and y label for train set\n",
    "y_train = income_train['label']\n",
    "train_columns = income_train.columns\n",
    "feature_columns = train_columns[:-1]\n",
    "X_train = income_train[feature_columns]\n",
    "\n",
    "# Get the features and y label for test set\n",
    "y_test = income_test['label']\n",
    "X_test = income_test[feature_columns]"
   ]
  },
  {
   "cell_type": "code",
   "execution_count": 32,
   "id": "26c24578-ac15-4c15-a9b3-f8635428c190",
   "metadata": {},
   "outputs": [
    {
     "data": {
      "text/plain": [
       "array([0, 0, 0, ..., 1, 1, 1], dtype=int64)"
      ]
     },
     "execution_count": 32,
     "metadata": {},
     "output_type": "execute_result"
    }
   ],
   "source": [
    "# Train the model\n",
    "logistic_regression = LogisticRegression(penalty= \"elasticnet\", max_iter=2000,l1_ratio=0.2, solver=\"saga\")\n",
    "logistic_regression.fit(X_train, y_train)\n",
    "\n",
    "# Predict on the test set\n",
    "y_pred = logistic_regression.predict(X_test)\n",
    "\n",
    "# Calculate metrics\n",
    "accuracy = accuracy_score(y_test, y_pred)\n",
    "f_score = f1_score(y_test, y_pred)\n",
    "roc_auc = roc_auc_score(y_test, y_pred)\n",
    "y_pred"
   ]
  },
  {
   "cell_type": "code",
   "execution_count": 33,
   "id": "36ff2603-7dcc-4eef-886f-187bccf40b31",
   "metadata": {},
   "outputs": [
    {
     "name": "stderr",
     "output_type": "stream",
     "text": [
      "C:\\Users\\Windows 10\\.conda\\envs\\tensorflow_env\\lib\\site-packages\\mlflow\\types\\utils.py:393: UserWarning: Hint: Inferred schema contains integer column(s). Integer columns in Python cannot represent missing values. If your input data contains missing values at inference time, it will be encoded as floats and will cause a schema enforcement error. The best way to avoid this problem is to infer the model schema based on a realistic data sample (training dataset) that includes missing values. Alternatively, you can declare integer columns as doubles (float64) whenever these columns may have missing values. See `Handling Integers With Missing Values <https://www.mlflow.org/docs/latest/models.html#handling-integers-with-missing-values>`_ for more details.\n",
      "  warnings.warn(\n",
      "Registered model 'tracking-logistic' already exists. Creating a new version of this model...\n",
      "2024/03/04 16:44:17 INFO mlflow.store.model_registry.abstract_store: Waiting up to 300 seconds for model version to finish creation. Model name: tracking-logistic, version 2\n",
      "Created version '2' of model 'tracking-logistic'.\n"
     ]
    }
   ],
   "source": [
    "mlflow.set_tracking_uri(uri=\"http://127.0.0.1:8080\")\n",
    "\n",
    "# Create a new MLflow Experiment\n",
    "mlflow.set_experiment(\"MLflow LogisticRegression\")\n",
    "\n",
    "# Start an MLflow run\n",
    "with mlflow.start_run():\n",
    "    # Log the hyperparameters\n",
    "    mlflow.log_params({\"max_iter\":2000, \"l1_ratio\":0.2, \"penalty\":\"elasticnet\", \"solver\": \"saga\"})\n",
    "\n",
    "    # Log the loss metric\n",
    "    mlflow.log_metric(\"accuracy\", accuracy)\n",
    "    mlflow.log_metric(\"f1_score\", f_score)\n",
    "    mlflow.log_metric(\"roc_auc_score\", roc_auc)\n",
    "\n",
    "    # Set a tag that we can use to remind ourselves what this run was for\n",
    "    mlflow.set_tag(\"Training Info\", \"Basic Logistic_regression model for census income dataset\")\n",
    "\n",
    "    # Infer the model signature\n",
    "    signature = infer_signature(X_train, logistic_regression.predict(X_train))\n",
    "\n",
    "    # Log the model\n",
    "    model_info = mlflow.sklearn.log_model(\n",
    "        sk_model=logistic_regression,\n",
    "        artifact_path=\"logistic_model\",\n",
    "        signature=signature,\n",
    "        input_example=X_train,\n",
    "        registered_model_name=\"tracking-logistic\",\n",
    "    )"
   ]
  },
  {
   "cell_type": "code",
   "execution_count": null,
   "id": "f6a47e2d-0c9e-40af-a3a8-ef4d90ce4cd1",
   "metadata": {},
   "outputs": [],
   "source": []
  }
 ],
 "metadata": {
  "kernelspec": {
   "display_name": "Python 3 (ipykernel)",
   "language": "python",
   "name": "python3"
  },
  "language_info": {
   "codemirror_mode": {
    "name": "ipython",
    "version": 3
   },
   "file_extension": ".py",
   "mimetype": "text/x-python",
   "name": "python",
   "nbconvert_exporter": "python",
   "pygments_lexer": "ipython3",
   "version": "3.10.13"
  }
 },
 "nbformat": 4,
 "nbformat_minor": 5
}
