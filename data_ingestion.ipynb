{
 "cells": [
  {
   "cell_type": "code",
   "execution_count": 1,
   "id": "c363e68e-1865-46f7-8d31-7328ac7dff06",
   "metadata": {},
   "outputs": [],
   "source": [
    "import yaml\n",
    "from box import ConfigBox\n",
    "from box.exceptions import BoxValueError\n",
    "from pathlib import Path\n",
    "import os\n",
    "from pydantic import BaseModel\n",
    "import urllib.request as request\n",
    "from utils import *\n",
    "import requests\n",
    "import zipfile"
   ]
  },
  {
   "cell_type": "code",
   "execution_count": 2,
   "id": "6ac7792d-b244-4b61-badd-8f4ac807f59c",
   "metadata": {},
   "outputs": [],
   "source": [
    "\n",
    "class DataIngestionConfigValidator(BaseModel):\n",
    "    root_dir: Path\n",
    "    source_url: str\n",
    "    zipped_local_dir: Path #Path #data_dir:\n",
    "    unzip_dir: Path\n",
    "\n",
    "def validate_data(configbox):\n",
    "    config = configbox.data_ingestion\n",
    "    config = DataIngestionConfigValidator(**config)\n",
    "    return config"
   ]
  },
  {
   "cell_type": "code",
   "execution_count": 3,
   "id": "d7b38ffe-614b-4b3a-a1cf-badecf2919d6",
   "metadata": {},
   "outputs": [],
   "source": [
    "class DataIngestion:\n",
    "    def __init__(self, config):\n",
    "        self.config = config\n",
    "        \n",
    "    def download_file(self):\n",
    "        \"\"\"\n",
    "        Url: str\n",
    "        downloads data into a specified directory\n",
    "        \"\"\"\n",
    "\n",
    "        zipped_local_dir = os.path.join(self.config.root_dir, \"adult.zip\")\n",
    "        create_directories([self.config.root_dir])\n",
    "        \n",
    "        if not os.path.exists(self.config.zipped_local_dir):\n",
    "            response = requests.get(self.config.source_url)\n",
    "            #print(response.content)\n",
    "            with open(zipped_local_dir, 'wb') as file:\n",
    "                file.write(response.content)\n",
    "        else:\n",
    "            print(f\"File already exists in {self.config.zipped_local_dir}\")\n",
    "        \n",
    "        \n",
    "    def unzip_file(self):\n",
    "        \"\"\"\n",
    "            zip_file_path: str\n",
    "            Extracts the zip file into the data directory\n",
    "            Function returns None\n",
    "            \"\"\"\n",
    "        target_dir = self.config.unzip_dir\n",
    "        with zipfile.ZipFile(self.config.zipped_local_dir, 'r') as files:\n",
    "            files.extractall(target_dir)"
   ]
  },
  {
   "cell_type": "code",
   "execution_count": 4,
   "id": "6f0c2aed-d6a5-480b-ba41-8b51d2e7f94c",
   "metadata": {},
   "outputs": [
    {
     "name": "stdout",
     "output_type": "stream",
     "text": [
      "yaml file: artifacts\\ConfigFiles\\config.yaml loaded successfully\n",
      "created directory at artifacts\\data_ingestion\n",
      "File already exists in artifacts\\data_ingestion\\adult.zip\n"
     ]
    }
   ],
   "source": [
    "config_box = read_yaml_file(Path('artifacts/ConfigFiles/config.yaml'))\n",
    "config = validate_data(config_box)\n",
    "data = DataIngestion(config)\n",
    "data.download_file()"
   ]
  },
  {
   "cell_type": "code",
   "execution_count": 5,
   "id": "0b8a25fc-219d-4c86-b8fb-b5f12b8f9c80",
   "metadata": {},
   "outputs": [],
   "source": [
    "data.unzip_file()"
   ]
  },
  {
   "cell_type": "code",
   "execution_count": null,
   "id": "3b1b2998-6389-4460-a01a-3ae888091941",
   "metadata": {},
   "outputs": [],
   "source": []
  }
 ],
 "metadata": {
  "kernelspec": {
   "display_name": "Python 3 (ipykernel)",
   "language": "python",
   "name": "python3"
  },
  "language_info": {
   "codemirror_mode": {
    "name": "ipython",
    "version": 3
   },
   "file_extension": ".py",
   "mimetype": "text/x-python",
   "name": "python",
   "nbconvert_exporter": "python",
   "pygments_lexer": "ipython3",
   "version": "3.10.13"
  }
 },
 "nbformat": 4,
 "nbformat_minor": 5
}
